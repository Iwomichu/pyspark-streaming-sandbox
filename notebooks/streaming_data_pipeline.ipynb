{
 "cells": [
  {
   "cell_type": "code",
   "execution_count": 1,
   "id": "af5d718e-6183-40af-9e69-86d129852a38",
   "metadata": {},
   "outputs": [],
   "source": [
    "import re\n",
    "import pickle\n",
    "\n",
    "from datetime import datetime, timezone\n",
    "\n",
    "import pyspark\n",
    "from pyspark.sql import SparkSession\n",
    "from pyspark.sql import Row\n",
    "from pyspark.sql.functions import explode, split, col, upper, filter, udf, from_json, base64, decode, to_json, struct, encode\n",
    "from pyspark.sql.types import ArrayType, MapType, StringType, TimestampType, IntegerType, StructType, StructField"
   ]
  },
  {
   "cell_type": "code",
   "execution_count": 2,
   "id": "6de618fa-62f5-4701-9972-6d71f05f9de9",
   "metadata": {},
   "outputs": [],
   "source": [
    "spark = SparkSession.builder.config(\"spark.jars.packages\", \"org.apache.spark:spark-sql-kafka-0-10_2.12:3.3.0\").master(\"local\").getOrCreate()\n",
    "\n",
    "with open(\"sentiment_tagger.pkl\", \"rb\") as f:\n",
    "    model = pickle.load(f)\n",
    "    spark.sparkContext.broadcast(model)\n",
    "\n",
    "\n",
    "def tag_sentiment(s):\n",
    "    return \"POSITIVE\" if model.predict([s]) == 1 else \"NEGATIVE\"\n",
    "\n",
    "\n",
    "tag_sentiment_udf = udf(tag_sentiment)"
   ]
  },
  {
   "cell_type": "code",
   "execution_count": null,
   "id": "e902fa01-9f85-4faf-9947-2d169332e314",
   "metadata": {},
   "outputs": [],
   "source": [
    "schema = StructType([\n",
    "    StructField(\"id\", IntegerType()),\n",
    "    StructField(\"poster_id\", IntegerType()),\n",
    "    StructField(\"timestamp\", TimestampType()),\n",
    "    StructField(\"body\", StringType()),\n",
    "])\n",
    "\n",
    "\n",
    "KAFKA_HOST = \"kafka\"\n",
    "KAFKA_PORT = 9092\n",
    "INPUT_KAFKA_TOPIC = \"posts\"\n",
    "OUTPUT_KAFKA_TOPIC = \"sentiments\"\n",
    "\n",
    "df = spark \\\n",
    "    .readStream \\\n",
    "    .format(\"kafka\") \\\n",
    "    .option(\"kafka.bootstrap.servers\", f\"{KAFKA_HOST}:{KAFKA_PORT}\") \\\n",
    "    .option(\"subscribe\", INPUT_KAFKA_TOPIC) \\\n",
    "    .load() \n",
    "query = df \\\n",
    "    .withColumn(\"json\", from_json(decode(col(\"value\"), \"utf-8\"), schema)).select(\"json.*\") \\\n",
    "    .distinct()\\\n",
    "    .withColumn(\"sentiment\", tag_sentiment_udf(\"body\"))\\\n",
    "    .select(\"id\", \"sentiment\") \\\n",
    "    .withColumn(\"value\", to_json(struct(col(\"*\")))) \\\n",
    "    .withColumn(\"key\", col(\"id\")) \\\n",
    "    .withColumn(\"value\", encode(col(\"value\"), \"utf-8\").cast(\"binary\"))\\\n",
    "    .withColumn(\"key\", encode(col(\"key\"), \"utf-8\").cast(\"binary\"))\\\n",
    "    .select(\"key\", \"value\") \\\n",
    "    .writeStream \\\n",
    "    .format(\"kafka\") \\\n",
    "    .option(\"kafka.bootstrap.servers\", f\"{KAFKA_HOST}:{KAFKA_PORT}\") \\\n",
    "    .option(\"topic\", OUTPUT_KAFKA_TOPIC) \\\n",
    "    .option(\"checkpointLocation\", \"/tmp/checkpoint\")\\\n",
    "    .trigger(processingTime=\"1 minutes\") \\\n",
    "    .start().awaitTermination()"
   ]
  },
  {
   "cell_type": "code",
   "execution_count": null,
   "id": "90b92766-7152-46b7-afa2-30e9bfb0c47f",
   "metadata": {},
   "outputs": [],
   "source": []
  }
 ],
 "metadata": {
  "kernelspec": {
   "display_name": "Python 3 (ipykernel)",
   "language": "python",
   "name": "python3"
  },
  "language_info": {
   "codemirror_mode": {
    "name": "ipython",
    "version": 3
   },
   "file_extension": ".py",
   "mimetype": "text/x-python",
   "name": "python",
   "nbconvert_exporter": "python",
   "pygments_lexer": "ipython3",
   "version": "3.8.13"
  }
 },
 "nbformat": 4,
 "nbformat_minor": 5
}
