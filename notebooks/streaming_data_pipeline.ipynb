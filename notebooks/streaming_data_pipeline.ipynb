{
 "cells": [
  {
   "cell_type": "code",
   "execution_count": 2,
   "id": "be98f3c5-306e-43ec-b731-22075261eb6e",
   "metadata": {},
   "outputs": [
    {
     "name": "stdout",
     "output_type": "stream",
     "text": [
      "--2023-06-16 10:34:20--  https://jdbc.postgresql.org/download/postgresql-42.6.0.jar\n",
      "Resolving jdbc.postgresql.org (jdbc.postgresql.org)... 72.32.157.228, 2001:4800:3e1:1::228\n",
      "Connecting to jdbc.postgresql.org (jdbc.postgresql.org)|72.32.157.228|:443... connected.\n",
      "HTTP request sent, awaiting response... 200 OK\n",
      "Length: 1081604 (1.0M) [application/java-archive]\n",
      "Saving to: ‘postgresql-42.6.0.jar’\n",
      "\n",
      "postgresql-42.6.0.j 100%[===================>]   1.03M   732KB/s    in 1.4s    \n",
      "\n",
      "2023-06-16 10:34:23 (732 KB/s) - ‘postgresql-42.6.0.jar’ saved [1081604/1081604]\n",
      "\n"
     ]
    }
   ],
   "source": [
    "!wget https://jdbc.postgresql.org/download/postgresql-42.6.0.jar"
   ]
  },
  {
   "cell_type": "code",
   "execution_count": 6,
   "id": "ce714d31-b752-4b1c-8ade-79dd1a597d43",
   "metadata": {},
   "outputs": [
    {
     "name": "stdout",
     "output_type": "stream",
     "text": [
      "--2023-06-16 16:17:05--  https://repo1.maven.org/maven2/org/apache/spark/spark-sql-kafka-0-10_2.12/3.0.0-preview2/spark-sql-kafka-0-10_2.12-3.0.0-preview2.jar\n",
      "Resolving repo1.maven.org (repo1.maven.org)... 151.101.36.209, 2a04:4e42:9::209\n",
      "Connecting to repo1.maven.org (repo1.maven.org)|151.101.36.209|:443... connected.\n",
      "HTTP request sent, awaiting response... 200 OK\n",
      "Length: 344977 (337K) [application/java-archive]\n",
      "Saving to: ‘spark-sql-kafka-0-10_2.12-3.0.0-preview2.jar’\n",
      "\n",
      "spark-sql-kafka-0-1 100%[===================>] 336.89K  1.91MB/s    in 0.2s    \n",
      "\n",
      "2023-06-16 16:17:06 (1.91 MB/s) - ‘spark-sql-kafka-0-10_2.12-3.0.0-preview2.jar’ saved [344977/344977]\n",
      "\n"
     ]
    }
   ],
   "source": [
    "!wget https://repo1.maven.org/maven2/org/apache/spark/spark-sql-kafka-0-10_2.12/3.0.0-preview2/spark-sql-kafka-0-10_2.12-3.0.0-preview2.jar"
   ]
  },
  {
   "cell_type": "code",
   "execution_count": 5,
   "id": "af5d718e-6183-40af-9e69-86d129852a38",
   "metadata": {},
   "outputs": [],
   "source": [
    "import re\n",
    "import pickle\n",
    "\n",
    "from datetime import datetime, timezone\n",
    "\n",
    "import pyspark\n",
    "from pyspark.sql import SparkSession\n",
    "from pyspark.sql import Row\n",
    "from pyspark.sql.functions import explode, split, col, upper, filter, udf, from_json, base64, decode\n",
    "from pyspark.sql.types import ArrayType, MapType, StringType, TimestampType, IntegerType, StructType, StructField"
   ]
  },
  {
   "cell_type": "code",
   "execution_count": 2,
   "id": "e36c49fd-1047-4ad1-afff-27db47474bec",
   "metadata": {},
   "outputs": [],
   "source": [
    "spark = SparkSession.builder.config(\"spark.jars.packages\", \"org.apache.spark:spark-sql-kafka-0-10_2.12:3.4.0\").master(\"local\").getOrCreate()"
   ]
  },
  {
   "cell_type": "code",
   "execution_count": 15,
   "id": "6e069ba2-7675-42ce-a5df-a909c8b08663",
   "metadata": {},
   "outputs": [],
   "source": [
    "with open(\"sentiment_tagger.pkl\", \"rb\") as f:\n",
    "    model = pickle.load(f)\n",
    "    spark.sparkContext.broadcast(model)\n",
    "\n",
    "\n",
    "def remove_non_letters(s):\n",
    "    regex = re.compile('[^a-zA-Z]')\n",
    "    return regex.sub('', s)\n",
    "\n",
    "\n",
    "def tag_sentiment(s):\n",
    "    return \"POSITIVE\" if model.predict([s]) == 1 else \"NEGATIVE\"\n",
    "\n",
    "\n",
    "remove_non_letters_udf = udf(remove_non_letters)\n",
    "tag_sentiment_udf = udf(tag_sentiment)"
   ]
  },
  {
   "cell_type": "code",
   "execution_count": 16,
   "id": "68d3fe29-ab6d-44a6-9d30-df691444cc32",
   "metadata": {},
   "outputs": [
    {
     "name": "stdout",
     "output_type": "stream",
     "text": [
      "+-----------------------+-----+\n",
      "|remove_non_letters(col)|count|\n",
      "+-----------------------+-----+\n",
      "|               MILITARY|    2|\n",
      "|                  THREE|    1|\n",
      "|                  AVOID|    1|\n",
      "|              AUTHORITY|    1|\n",
      "|             COLLECTION|    1|\n",
      "|                    ASK|    1|\n",
      "|                     BY|    1|\n",
      "|                   BILL|    1|\n",
      "|               RESPONSE|    1|\n",
      "|                  EARLY|    1|\n",
      "|                  SOUTH|    1|\n",
      "|                    ITS|    1|\n",
      "|                   FEEL|    1|\n",
      "|                 ENERGY|    1|\n",
      "|                    EYE|    1|\n",
      "|                ABILITY|    1|\n",
      "|               MAINTAIN|    1|\n",
      "|                 SIMPLY|    1|\n",
      "|              CHALLENGE|    1|\n",
      "|                  PRICE|    1|\n",
      "+-----------------------+-----+\n",
      "only showing top 20 rows\n",
      "\n",
      "+----+---------+\n",
      "|  id|sentiment|\n",
      "+----+---------+\n",
      "|7821| NEGATIVE|\n",
      "|7820| NEGATIVE|\n",
      "+----+---------+\n",
      "\n",
      "+-----------------------+-----+\n",
      "|remove_non_letters(col)|count|\n",
      "+-----------------------+-----+\n",
      "|              CHALLENGE|   22|\n",
      "|                   WHEN|   21|\n",
      "|                    OLD|   21|\n",
      "|                 DESIGN|   21|\n",
      "|                 CHANGE|   20|\n",
      "|                   EVER|   20|\n",
      "|                  LIGHT|   20|\n",
      "|               HOSPITAL|   19|\n",
      "|                    GAS|   19|\n",
      "|                ECONOMY|   19|\n",
      "|                  MEDIA|   19|\n",
      "|                  HEAVY|   18|\n",
      "|                     HE|   18|\n",
      "|                    TAX|   18|\n",
      "|                   WEEK|   18|\n",
      "|                   STAY|   18|\n",
      "|              RELIGIOUS|   18|\n",
      "|                  ENJOY|   17|\n",
      "|               DIRECTOR|   17|\n",
      "|                    PER|   17|\n",
      "+-----------------------+-----+\n",
      "only showing top 20 rows\n",
      "\n",
      "+----+---------+\n",
      "|  id|sentiment|\n",
      "+----+---------+\n",
      "|7893| NEGATIVE|\n",
      "|8207| NEGATIVE|\n",
      "|8281| POSITIVE|\n",
      "|7847| NEGATIVE|\n",
      "|8290| NEGATIVE|\n",
      "|7865| POSITIVE|\n",
      "|8158| NEGATIVE|\n",
      "|7834| NEGATIVE|\n",
      "|8035| NEGATIVE|\n",
      "|8057| NEGATIVE|\n",
      "|8243| NEGATIVE|\n",
      "|7994| NEGATIVE|\n",
      "|8004| POSITIVE|\n",
      "|8246| NEGATIVE|\n",
      "|8028| POSITIVE|\n",
      "|8361| NEGATIVE|\n",
      "|7877| NEGATIVE|\n",
      "|8385| NEGATIVE|\n",
      "|7840| POSITIVE|\n",
      "|7871| POSITIVE|\n",
      "+----+---------+\n",
      "only showing top 20 rows\n",
      "\n"
     ]
    },
    {
     "name": "stderr",
     "output_type": "stream",
     "text": [
      "ERROR:root:KeyboardInterrupt while sending command.\n",
      "Traceback (most recent call last):\n",
      "  File \"/usr/local/spark/python/lib/py4j-0.10.9.5-src.zip/py4j/java_gateway.py\", line 1038, in send_command\n",
      "    response = connection.send_command(command)\n",
      "  File \"/usr/local/spark/python/lib/py4j-0.10.9.5-src.zip/py4j/clientserver.py\", line 511, in send_command\n",
      "    answer = smart_decode(self.stream.readline()[:-1])\n",
      "  File \"/opt/conda/lib/python3.8/socket.py\", line 669, in readinto\n",
      "    return self._sock.recv_into(b)\n",
      "KeyboardInterrupt\n"
     ]
    },
    {
     "ename": "KeyboardInterrupt",
     "evalue": "",
     "output_type": "error",
     "traceback": [
      "\u001b[0;31m---------------------------------------------------------------------------\u001b[0m",
      "\u001b[0;31mKeyboardInterrupt\u001b[0m                         Traceback (most recent call last)",
      "Cell \u001b[0;32mIn [16], line 48\u001b[0m\n\u001b[1;32m     39\u001b[0m     tag_sentiment_df(df, batch_id)\n\u001b[1;32m     42\u001b[0m df \u001b[38;5;241m=\u001b[39m spark \\\n\u001b[1;32m     43\u001b[0m   \u001b[38;5;241m.\u001b[39mreadStream \\\n\u001b[1;32m     44\u001b[0m   \u001b[38;5;241m.\u001b[39mformat(\u001b[38;5;124m\"\u001b[39m\u001b[38;5;124mkafka\u001b[39m\u001b[38;5;124m\"\u001b[39m) \\\n\u001b[1;32m     45\u001b[0m   \u001b[38;5;241m.\u001b[39moption(\u001b[38;5;124m\"\u001b[39m\u001b[38;5;124mkafka.bootstrap.servers\u001b[39m\u001b[38;5;124m\"\u001b[39m, \u001b[38;5;124mf\u001b[39m\u001b[38;5;124m\"\u001b[39m\u001b[38;5;132;01m{\u001b[39;00mKAFKA_HOST\u001b[38;5;132;01m}\u001b[39;00m\u001b[38;5;124m:\u001b[39m\u001b[38;5;132;01m{\u001b[39;00mKAFKA_PORT\u001b[38;5;132;01m}\u001b[39;00m\u001b[38;5;124m\"\u001b[39m) \\\n\u001b[1;32m     46\u001b[0m   \u001b[38;5;241m.\u001b[39moption(\u001b[38;5;124m\"\u001b[39m\u001b[38;5;124msubscribe\u001b[39m\u001b[38;5;124m\"\u001b[39m, KAFKA_TOPIC) \\\n\u001b[1;32m     47\u001b[0m   \u001b[38;5;241m.\u001b[39mload() \n\u001b[0;32m---> 48\u001b[0m query \u001b[38;5;241m=\u001b[39m \u001b[43mdf\u001b[49m\u001b[38;5;241;43m.\u001b[39;49m\u001b[43mwriteStream\u001b[49m\u001b[43m \u001b[49m\u001b[43m\\\u001b[49m\n\u001b[1;32m     49\u001b[0m \u001b[43m    \u001b[49m\u001b[38;5;241;43m.\u001b[39;49m\u001b[43mforeachBatch\u001b[49m\u001b[43m(\u001b[49m\u001b[43mfunc_call\u001b[49m\u001b[43m)\u001b[49m\u001b[43m \u001b[49m\u001b[43m\\\u001b[49m\n\u001b[1;32m     50\u001b[0m \u001b[43m    \u001b[49m\u001b[38;5;241;43m.\u001b[39;49m\u001b[43mtrigger\u001b[49m\u001b[43m(\u001b[49m\u001b[43mprocessingTime\u001b[49m\u001b[38;5;241;43m=\u001b[39;49m\u001b[38;5;124;43m\"\u001b[39;49m\u001b[38;5;124;43m1 minutes\u001b[39;49m\u001b[38;5;124;43m\"\u001b[39;49m\u001b[43m)\u001b[49m\u001b[43m \u001b[49m\u001b[43m\\\u001b[49m\n\u001b[1;32m     51\u001b[0m \u001b[43m    \u001b[49m\u001b[38;5;241;43m.\u001b[39;49m\u001b[43mstart\u001b[49m\u001b[43m(\u001b[49m\u001b[43m)\u001b[49m\u001b[38;5;241;43m.\u001b[39;49m\u001b[43mawaitTermination\u001b[49m\u001b[43m(\u001b[49m\u001b[43m)\u001b[49m\n",
      "File \u001b[0;32m/usr/local/spark/python/pyspark/sql/streaming.py:107\u001b[0m, in \u001b[0;36mStreamingQuery.awaitTermination\u001b[0;34m(self, timeout)\u001b[0m\n\u001b[1;32m    105\u001b[0m     \u001b[38;5;28;01mreturn\u001b[39;00m \u001b[38;5;28mself\u001b[39m\u001b[38;5;241m.\u001b[39m_jsq\u001b[38;5;241m.\u001b[39mawaitTermination(\u001b[38;5;28mint\u001b[39m(timeout \u001b[38;5;241m*\u001b[39m \u001b[38;5;241m1000\u001b[39m))\n\u001b[1;32m    106\u001b[0m \u001b[38;5;28;01melse\u001b[39;00m:\n\u001b[0;32m--> 107\u001b[0m     \u001b[38;5;28;01mreturn\u001b[39;00m \u001b[38;5;28;43mself\u001b[39;49m\u001b[38;5;241;43m.\u001b[39;49m\u001b[43m_jsq\u001b[49m\u001b[38;5;241;43m.\u001b[39;49m\u001b[43mawaitTermination\u001b[49m\u001b[43m(\u001b[49m\u001b[43m)\u001b[49m\n",
      "File \u001b[0;32m/usr/local/spark/python/lib/py4j-0.10.9.5-src.zip/py4j/java_gateway.py:1320\u001b[0m, in \u001b[0;36mJavaMember.__call__\u001b[0;34m(self, *args)\u001b[0m\n\u001b[1;32m   1313\u001b[0m args_command, temp_args \u001b[38;5;241m=\u001b[39m \u001b[38;5;28mself\u001b[39m\u001b[38;5;241m.\u001b[39m_build_args(\u001b[38;5;241m*\u001b[39margs)\n\u001b[1;32m   1315\u001b[0m command \u001b[38;5;241m=\u001b[39m proto\u001b[38;5;241m.\u001b[39mCALL_COMMAND_NAME \u001b[38;5;241m+\u001b[39m\\\n\u001b[1;32m   1316\u001b[0m     \u001b[38;5;28mself\u001b[39m\u001b[38;5;241m.\u001b[39mcommand_header \u001b[38;5;241m+\u001b[39m\\\n\u001b[1;32m   1317\u001b[0m     args_command \u001b[38;5;241m+\u001b[39m\\\n\u001b[1;32m   1318\u001b[0m     proto\u001b[38;5;241m.\u001b[39mEND_COMMAND_PART\n\u001b[0;32m-> 1320\u001b[0m answer \u001b[38;5;241m=\u001b[39m \u001b[38;5;28;43mself\u001b[39;49m\u001b[38;5;241;43m.\u001b[39;49m\u001b[43mgateway_client\u001b[49m\u001b[38;5;241;43m.\u001b[39;49m\u001b[43msend_command\u001b[49m\u001b[43m(\u001b[49m\u001b[43mcommand\u001b[49m\u001b[43m)\u001b[49m\n\u001b[1;32m   1321\u001b[0m return_value \u001b[38;5;241m=\u001b[39m get_return_value(\n\u001b[1;32m   1322\u001b[0m     answer, \u001b[38;5;28mself\u001b[39m\u001b[38;5;241m.\u001b[39mgateway_client, \u001b[38;5;28mself\u001b[39m\u001b[38;5;241m.\u001b[39mtarget_id, \u001b[38;5;28mself\u001b[39m\u001b[38;5;241m.\u001b[39mname)\n\u001b[1;32m   1324\u001b[0m \u001b[38;5;28;01mfor\u001b[39;00m temp_arg \u001b[38;5;129;01min\u001b[39;00m temp_args:\n",
      "File \u001b[0;32m/usr/local/spark/python/lib/py4j-0.10.9.5-src.zip/py4j/java_gateway.py:1038\u001b[0m, in \u001b[0;36mGatewayClient.send_command\u001b[0;34m(self, command, retry, binary)\u001b[0m\n\u001b[1;32m   1036\u001b[0m connection \u001b[38;5;241m=\u001b[39m \u001b[38;5;28mself\u001b[39m\u001b[38;5;241m.\u001b[39m_get_connection()\n\u001b[1;32m   1037\u001b[0m \u001b[38;5;28;01mtry\u001b[39;00m:\n\u001b[0;32m-> 1038\u001b[0m     response \u001b[38;5;241m=\u001b[39m \u001b[43mconnection\u001b[49m\u001b[38;5;241;43m.\u001b[39;49m\u001b[43msend_command\u001b[49m\u001b[43m(\u001b[49m\u001b[43mcommand\u001b[49m\u001b[43m)\u001b[49m\n\u001b[1;32m   1039\u001b[0m     \u001b[38;5;28;01mif\u001b[39;00m binary:\n\u001b[1;32m   1040\u001b[0m         \u001b[38;5;28;01mreturn\u001b[39;00m response, \u001b[38;5;28mself\u001b[39m\u001b[38;5;241m.\u001b[39m_create_connection_guard(connection)\n",
      "File \u001b[0;32m/usr/local/spark/python/lib/py4j-0.10.9.5-src.zip/py4j/clientserver.py:511\u001b[0m, in \u001b[0;36mClientServerConnection.send_command\u001b[0;34m(self, command)\u001b[0m\n\u001b[1;32m    509\u001b[0m \u001b[38;5;28;01mtry\u001b[39;00m:\n\u001b[1;32m    510\u001b[0m     \u001b[38;5;28;01mwhile\u001b[39;00m \u001b[38;5;28;01mTrue\u001b[39;00m:\n\u001b[0;32m--> 511\u001b[0m         answer \u001b[38;5;241m=\u001b[39m smart_decode(\u001b[38;5;28;43mself\u001b[39;49m\u001b[38;5;241;43m.\u001b[39;49m\u001b[43mstream\u001b[49m\u001b[38;5;241;43m.\u001b[39;49m\u001b[43mreadline\u001b[49m\u001b[43m(\u001b[49m\u001b[43m)\u001b[49m[:\u001b[38;5;241m-\u001b[39m\u001b[38;5;241m1\u001b[39m])\n\u001b[1;32m    512\u001b[0m         logger\u001b[38;5;241m.\u001b[39mdebug(\u001b[38;5;124m\"\u001b[39m\u001b[38;5;124mAnswer received: \u001b[39m\u001b[38;5;132;01m{0}\u001b[39;00m\u001b[38;5;124m\"\u001b[39m\u001b[38;5;241m.\u001b[39mformat(answer))\n\u001b[1;32m    513\u001b[0m         \u001b[38;5;66;03m# Happens when a the other end is dead. There might be an empty\u001b[39;00m\n\u001b[1;32m    514\u001b[0m         \u001b[38;5;66;03m# answer before the socket raises an error.\u001b[39;00m\n",
      "File \u001b[0;32m/opt/conda/lib/python3.8/socket.py:669\u001b[0m, in \u001b[0;36mSocketIO.readinto\u001b[0;34m(self, b)\u001b[0m\n\u001b[1;32m    667\u001b[0m \u001b[38;5;28;01mwhile\u001b[39;00m \u001b[38;5;28;01mTrue\u001b[39;00m:\n\u001b[1;32m    668\u001b[0m     \u001b[38;5;28;01mtry\u001b[39;00m:\n\u001b[0;32m--> 669\u001b[0m         \u001b[38;5;28;01mreturn\u001b[39;00m \u001b[38;5;28;43mself\u001b[39;49m\u001b[38;5;241;43m.\u001b[39;49m\u001b[43m_sock\u001b[49m\u001b[38;5;241;43m.\u001b[39;49m\u001b[43mrecv_into\u001b[49m\u001b[43m(\u001b[49m\u001b[43mb\u001b[49m\u001b[43m)\u001b[49m\n\u001b[1;32m    670\u001b[0m     \u001b[38;5;28;01mexcept\u001b[39;00m timeout:\n\u001b[1;32m    671\u001b[0m         \u001b[38;5;28mself\u001b[39m\u001b[38;5;241m.\u001b[39m_timeout_occurred \u001b[38;5;241m=\u001b[39m \u001b[38;5;28;01mTrue\u001b[39;00m\n",
      "\u001b[0;31mKeyboardInterrupt\u001b[0m: "
     ]
    }
   ],
   "source": [
    "schema = StructType([\n",
    "    StructField(\"id\", IntegerType()),\n",
    "    StructField(\"poster_id\", IntegerType()),\n",
    "    StructField(\"timestamp\", TimestampType()),\n",
    "    StructField(\"body\", StringType()),\n",
    "])\n",
    "\n",
    "\n",
    "KAFKA_HOST = \"kafka\"\n",
    "KAFKA_PORT = 9092\n",
    "KAFKA_TOPIC = \"posts\"\n",
    "RESULTS_DIRECTORY_PATH = \"/home/jovyan/results\"\n",
    "\n",
    "\n",
    "def unique_words(df, batch_id):\n",
    "    posts = df.withColumn(\"json\", from_json(decode(col(\"value\"), \"utf-8\"), schema)).select(\"json.*\")\n",
    "    result = posts\\\n",
    "    .distinct()\\\n",
    "    .select(explode(split(upper(col(\"body\")), \"\\s+\")))\\\n",
    "    .select(remove_non_letters_udf(\"col\"))\\\n",
    "    .groupby(\"remove_non_letters(col)\")\\\n",
    "    .count().sort(col(\"count\").desc())\n",
    "    result.show()\n",
    "    timestamp = datetime.now(tz=timezone.utc).replace(microsecond=0).isoformat()\n",
    "    result.write.csv(f\"{RESULTS_DIRECTORY_PATH}/{timestamp}\")\n",
    "    \n",
    "    \n",
    "def tag_sentiment_df(df, batch_id):\n",
    "    posts = df.withColumn(\"json\", from_json(decode(col(\"value\"), \"utf-8\"), schema)).select(\"json.*\")\n",
    "    result = posts\\\n",
    "    .distinct()\\\n",
    "    .withColumn(\"sentiment\", tag_sentiment_udf(\"body\"))\\\n",
    "    .select(\"id\", \"sentiment\")\\\n",
    "    .show()\n",
    "    \n",
    "    \n",
    "def func_call(df, batch_id):\n",
    "    unique_words(df, batch_id)\n",
    "    tag_sentiment_df(df, batch_id)\n",
    "    \n",
    "    \n",
    "df = spark \\\n",
    "  .readStream \\\n",
    "  .format(\"kafka\") \\\n",
    "  .option(\"kafka.bootstrap.servers\", f\"{KAFKA_HOST}:{KAFKA_PORT}\") \\\n",
    "  .option(\"subscribe\", KAFKA_TOPIC) \\\n",
    "  .load() \n",
    "query = df.writeStream \\\n",
    "    .foreachBatch(func_call) \\\n",
    "    .trigger(processingTime=\"1 minutes\") \\\n",
    "    .start().awaitTermination()"
   ]
  },
  {
   "cell_type": "code",
   "execution_count": null,
   "id": "e902fa01-9f85-4faf-9947-2d169332e314",
   "metadata": {},
   "outputs": [],
   "source": []
  }
 ],
 "metadata": {
  "kernelspec": {
   "display_name": "Python 3 (ipykernel)",
   "language": "python",
   "name": "python3"
  },
  "language_info": {
   "codemirror_mode": {
    "name": "ipython",
    "version": 3
   },
   "file_extension": ".py",
   "mimetype": "text/x-python",
   "name": "python",
   "nbconvert_exporter": "python",
   "pygments_lexer": "ipython3",
   "version": "3.8.13"
  }
 },
 "nbformat": 4,
 "nbformat_minor": 5
}
